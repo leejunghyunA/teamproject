{
 "cells": [
  {
   "cell_type": "code",
   "execution_count": 42,
   "id": "fcf262f0",
   "metadata": {
    "scrolled": true
   },
   "outputs": [
    {
     "name": "stdout",
     "output_type": "stream",
     "text": [
      "Requirement already satisfied: selenium in c:\\users\\admin\\anaconda3\\envs\\cakd7\\lib\\site-packages (4.3.0)\n",
      "Requirement already satisfied: urllib3[secure,socks]~=1.26 in c:\\users\\admin\\anaconda3\\envs\\cakd7\\lib\\site-packages (from selenium) (1.26.9)\n",
      "Requirement already satisfied: trio-websocket~=0.9 in c:\\users\\admin\\anaconda3\\envs\\cakd7\\lib\\site-packages (from selenium) (0.9.2)\n",
      "Requirement already satisfied: trio~=0.17 in c:\\users\\admin\\anaconda3\\envs\\cakd7\\lib\\site-packages (from selenium) (0.21.0)\n",
      "Requirement already satisfied: async-generator>=1.9 in c:\\users\\admin\\anaconda3\\envs\\cakd7\\lib\\site-packages (from trio~=0.17->selenium) (1.10)\n",
      "Requirement already satisfied: sortedcontainers in c:\\users\\admin\\anaconda3\\envs\\cakd7\\lib\\site-packages (from trio~=0.17->selenium) (2.4.0)\n",
      "Requirement already satisfied: idna in c:\\users\\admin\\anaconda3\\envs\\cakd7\\lib\\site-packages (from trio~=0.17->selenium) (3.3)\n",
      "Requirement already satisfied: outcome in c:\\users\\admin\\anaconda3\\envs\\cakd7\\lib\\site-packages (from trio~=0.17->selenium) (1.2.0)\n",
      "Requirement already satisfied: sniffio in c:\\users\\admin\\anaconda3\\envs\\cakd7\\lib\\site-packages (from trio~=0.17->selenium) (1.2.0)\n",
      "Requirement already satisfied: cffi>=1.14 in c:\\users\\admin\\anaconda3\\envs\\cakd7\\lib\\site-packages (from trio~=0.17->selenium) (1.15.0)\n",
      "Requirement already satisfied: attrs>=19.2.0 in c:\\users\\admin\\anaconda3\\envs\\cakd7\\lib\\site-packages (from trio~=0.17->selenium) (21.4.0)\n",
      "Requirement already satisfied: pycparser in c:\\users\\admin\\anaconda3\\envs\\cakd7\\lib\\site-packages (from cffi>=1.14->trio~=0.17->selenium) (2.21)\n",
      "Requirement already satisfied: wsproto>=0.14 in c:\\users\\admin\\anaconda3\\envs\\cakd7\\lib\\site-packages (from trio-websocket~=0.9->selenium) (1.1.0)\n",
      "Requirement already satisfied: PySocks!=1.5.7,<2.0,>=1.5.6 in c:\\users\\admin\\anaconda3\\envs\\cakd7\\lib\\site-packages (from urllib3[secure,socks]~=1.26->selenium) (1.7.1)\n",
      "Requirement already satisfied: cryptography>=1.3.4 in c:\\users\\admin\\anaconda3\\envs\\cakd7\\lib\\site-packages (from urllib3[secure,socks]~=1.26->selenium) (3.4.8)\n",
      "Requirement already satisfied: pyOpenSSL>=0.14 in c:\\users\\admin\\anaconda3\\envs\\cakd7\\lib\\site-packages (from urllib3[secure,socks]~=1.26->selenium) (21.0.0)\n",
      "Requirement already satisfied: certifi in c:\\users\\admin\\anaconda3\\envs\\cakd7\\lib\\site-packages (from urllib3[secure,socks]~=1.26->selenium) (2022.6.15)\n",
      "Requirement already satisfied: six>=1.5.2 in c:\\users\\admin\\anaconda3\\envs\\cakd7\\lib\\site-packages (from pyOpenSSL>=0.14->urllib3[secure,socks]~=1.26->selenium) (1.16.0)\n",
      "Requirement already satisfied: h11<1,>=0.9.0 in c:\\users\\admin\\anaconda3\\envs\\cakd7\\lib\\site-packages (from wsproto>=0.14->trio-websocket~=0.9->selenium) (0.13.0)\n"
     ]
    }
   ],
   "source": [
    "from bs4 import BeautifulSoup \n",
    "import urllib\n",
    "import urllib.request as rq\n",
    "import pandas as pd\n",
    "!pip install selenium"
   ]
  },
  {
   "cell_type": "code",
   "execution_count": 43,
   "id": "66d3d087",
   "metadata": {},
   "outputs": [],
   "source": [
    "import selenium\n",
    "from selenium import webdriver\n",
    "from selenium.webdriver.common.keys import Keys\n",
    "\n",
    "import warnings\n",
    "warnings.filterwarnings('ignore')\n",
    "\n",
    "from selenium.webdriver.support.ui import WebDriverWait\n",
    "from selenium.webdriver.support import expected_conditions as EC\n",
    "from selenium.webdriver.common.by import By\n",
    "from time import sleep\n",
    "import selenium\n",
    "from selenium import webdriver\n",
    "from selenium.webdriver.common.keys import Keys\n"
   ]
  },
  {
   "cell_type": "code",
   "execution_count": null,
   "id": "2516cb02",
   "metadata": {},
   "outputs": [],
   "source": [
    "# 뽑아야할 데이터 -> 자동차 가격(종류별, 이름, 출시 연도)/ 자동차 "
   ]
  },
  {
   "cell_type": "code",
   "execution_count": 46,
   "id": "5bd672b0",
   "metadata": {
    "scrolled": false
   },
   "outputs": [
    {
     "name": "stdout",
     "output_type": "stream",
     "text": [
      "['\\n2023 BMW 7시리즈\\n\\n17,000만원\\n\\n\\n출시 2022년 11월\\n\\n']\n",
      "['\\n2023 BMW 7시리즈\\n\\n17,000만원\\n\\n\\n출시 2022년 11월\\n\\n', '\\n2023 레이\\n\\n정보없음\\n\\n\\n출시 2022년 9월\\n\\n']\n",
      "['\\n2023 BMW 7시리즈\\n\\n17,000만원\\n\\n\\n출시 2022년 11월\\n\\n', '\\n2023 레이\\n\\n정보없음\\n\\n\\n출시 2022년 9월\\n\\n', '\\n2022 피아트 패스트백\\n\\n정보없음\\n\\n\\n출시 2022년 8월\\n\\n']\n",
      "['\\n2023 BMW 7시리즈\\n\\n17,000만원\\n\\n\\n출시 2022년 11월\\n\\n', '\\n2023 레이\\n\\n정보없음\\n\\n\\n출시 2022년 9월\\n\\n', '\\n2022 피아트 패스트백\\n\\n정보없음\\n\\n\\n출시 2022년 8월\\n\\n', '\\n2022 폭스바겐 티구안 올스페이스\\n\\n5,098만원\\n\\n\\n출시 2022년 8월\\n\\n']\n",
      "['\\n2023 BMW 7시리즈\\n\\n17,000만원\\n\\n\\n출시 2022년 11월\\n\\n', '\\n2023 레이\\n\\n정보없음\\n\\n\\n출시 2022년 9월\\n\\n', '\\n2022 피아트 패스트백\\n\\n정보없음\\n\\n\\n출시 2022년 8월\\n\\n', '\\n2022 폭스바겐 티구안 올스페이스\\n\\n5,098만원\\n\\n\\n출시 2022년 8월\\n\\n', '\\n2022 포드 익스플로러 하이브리드\\n\\n6,920만원\\n\\n\\n출시 2022년 8월\\n\\n']\n",
      "['\\n2023 BMW 7시리즈\\n\\n17,000만원\\n\\n\\n출시 2022년 11월\\n\\n', '\\n2023 레이\\n\\n정보없음\\n\\n\\n출시 2022년 9월\\n\\n', '\\n2022 피아트 패스트백\\n\\n정보없음\\n\\n\\n출시 2022년 8월\\n\\n', '\\n2022 폭스바겐 티구안 올스페이스\\n\\n5,098만원\\n\\n\\n출시 2022년 8월\\n\\n', '\\n2022 포드 익스플로러 하이브리드\\n\\n6,920만원\\n\\n\\n출시 2022년 8월\\n\\n', '\\n2022 포드 익스플로러\\n\\n정보없음\\n\\n\\n출시 2022년 8월\\n\\n']\n",
      "['\\n2023 BMW 7시리즈\\n\\n17,000만원\\n\\n\\n출시 2022년 11월\\n\\n', '\\n2023 레이\\n\\n정보없음\\n\\n\\n출시 2022년 9월\\n\\n', '\\n2022 피아트 패스트백\\n\\n정보없음\\n\\n\\n출시 2022년 8월\\n\\n', '\\n2022 폭스바겐 티구안 올스페이스\\n\\n5,098만원\\n\\n\\n출시 2022년 8월\\n\\n', '\\n2022 포드 익스플로러 하이브리드\\n\\n6,920만원\\n\\n\\n출시 2022년 8월\\n\\n', '\\n2022 포드 익스플로러\\n\\n정보없음\\n\\n\\n출시 2022년 8월\\n\\n', '\\n2022 페라리 296 GTS\\n\\n정보없음\\n\\n\\n출시 2022년 8월\\n\\n']\n",
      "['\\n2023 BMW 7시리즈\\n\\n17,000만원\\n\\n\\n출시 2022년 11월\\n\\n', '\\n2023 레이\\n\\n정보없음\\n\\n\\n출시 2022년 9월\\n\\n', '\\n2022 피아트 패스트백\\n\\n정보없음\\n\\n\\n출시 2022년 8월\\n\\n', '\\n2022 폭스바겐 티구안 올스페이스\\n\\n5,098만원\\n\\n\\n출시 2022년 8월\\n\\n', '\\n2022 포드 익스플로러 하이브리드\\n\\n6,920만원\\n\\n\\n출시 2022년 8월\\n\\n', '\\n2022 포드 익스플로러\\n\\n정보없음\\n\\n\\n출시 2022년 8월\\n\\n', '\\n2022 페라리 296 GTS\\n\\n정보없음\\n\\n\\n출시 2022년 8월\\n\\n', '\\n2022 토요타 야리스 아티브\\n\\n15,232달러\\n\\n\\n출시 2022년 8월\\n\\n']\n",
      "['\\n2023 BMW 7시리즈\\n\\n17,000만원\\n\\n\\n출시 2022년 11월\\n\\n', '\\n2023 레이\\n\\n정보없음\\n\\n\\n출시 2022년 9월\\n\\n', '\\n2022 피아트 패스트백\\n\\n정보없음\\n\\n\\n출시 2022년 8월\\n\\n', '\\n2022 폭스바겐 티구안 올스페이스\\n\\n5,098만원\\n\\n\\n출시 2022년 8월\\n\\n', '\\n2022 포드 익스플로러 하이브리드\\n\\n6,920만원\\n\\n\\n출시 2022년 8월\\n\\n', '\\n2022 포드 익스플로러\\n\\n정보없음\\n\\n\\n출시 2022년 8월\\n\\n', '\\n2022 페라리 296 GTS\\n\\n정보없음\\n\\n\\n출시 2022년 8월\\n\\n', '\\n2022 토요타 야리스 아티브\\n\\n15,232달러\\n\\n\\n출시 2022년 8월\\n\\n', '\\n2023 BMW 7시리즈\\n\\n17,000만원\\n\\n\\n출시 2022년 11월\\n\\n']\n",
      "['\\n2023 BMW 7시리즈\\n\\n17,000만원\\n\\n\\n출시 2022년 11월\\n\\n', '\\n2023 레이\\n\\n정보없음\\n\\n\\n출시 2022년 9월\\n\\n', '\\n2022 피아트 패스트백\\n\\n정보없음\\n\\n\\n출시 2022년 8월\\n\\n', '\\n2022 폭스바겐 티구안 올스페이스\\n\\n5,098만원\\n\\n\\n출시 2022년 8월\\n\\n', '\\n2022 포드 익스플로러 하이브리드\\n\\n6,920만원\\n\\n\\n출시 2022년 8월\\n\\n', '\\n2022 포드 익스플로러\\n\\n정보없음\\n\\n\\n출시 2022년 8월\\n\\n', '\\n2022 페라리 296 GTS\\n\\n정보없음\\n\\n\\n출시 2022년 8월\\n\\n', '\\n2022 토요타 야리스 아티브\\n\\n15,232달러\\n\\n\\n출시 2022년 8월\\n\\n', '\\n2023 BMW 7시리즈\\n\\n17,000만원\\n\\n\\n출시 2022년 11월\\n\\n', '\\n2023 레이\\n\\n정보없음\\n\\n\\n출시 2022년 9월\\n\\n']\n",
      "['\\n2023 BMW 7시리즈\\n\\n17,000만원\\n\\n\\n출시 2022년 11월\\n\\n', '\\n2023 레이\\n\\n정보없음\\n\\n\\n출시 2022년 9월\\n\\n', '\\n2022 피아트 패스트백\\n\\n정보없음\\n\\n\\n출시 2022년 8월\\n\\n', '\\n2022 폭스바겐 티구안 올스페이스\\n\\n5,098만원\\n\\n\\n출시 2022년 8월\\n\\n', '\\n2022 포드 익스플로러 하이브리드\\n\\n6,920만원\\n\\n\\n출시 2022년 8월\\n\\n', '\\n2022 포드 익스플로러\\n\\n정보없음\\n\\n\\n출시 2022년 8월\\n\\n', '\\n2022 페라리 296 GTS\\n\\n정보없음\\n\\n\\n출시 2022년 8월\\n\\n', '\\n2022 토요타 야리스 아티브\\n\\n15,232달러\\n\\n\\n출시 2022년 8월\\n\\n', '\\n2023 BMW 7시리즈\\n\\n17,000만원\\n\\n\\n출시 2022년 11월\\n\\n', '\\n2023 레이\\n\\n정보없음\\n\\n\\n출시 2022년 9월\\n\\n', '\\n2022 피아트 패스트백\\n\\n정보없음\\n\\n\\n출시 2022년 8월\\n\\n']\n",
      "['\\n2023 BMW 7시리즈\\n\\n17,000만원\\n\\n\\n출시 2022년 11월\\n\\n', '\\n2023 레이\\n\\n정보없음\\n\\n\\n출시 2022년 9월\\n\\n', '\\n2022 피아트 패스트백\\n\\n정보없음\\n\\n\\n출시 2022년 8월\\n\\n', '\\n2022 폭스바겐 티구안 올스페이스\\n\\n5,098만원\\n\\n\\n출시 2022년 8월\\n\\n', '\\n2022 포드 익스플로러 하이브리드\\n\\n6,920만원\\n\\n\\n출시 2022년 8월\\n\\n', '\\n2022 포드 익스플로러\\n\\n정보없음\\n\\n\\n출시 2022년 8월\\n\\n', '\\n2022 페라리 296 GTS\\n\\n정보없음\\n\\n\\n출시 2022년 8월\\n\\n', '\\n2022 토요타 야리스 아티브\\n\\n15,232달러\\n\\n\\n출시 2022년 8월\\n\\n', '\\n2023 BMW 7시리즈\\n\\n17,000만원\\n\\n\\n출시 2022년 11월\\n\\n', '\\n2023 레이\\n\\n정보없음\\n\\n\\n출시 2022년 9월\\n\\n', '\\n2022 피아트 패스트백\\n\\n정보없음\\n\\n\\n출시 2022년 8월\\n\\n', '\\n2022 폭스바겐 티구안 올스페이스\\n\\n5,098만원\\n\\n\\n출시 2022년 8월\\n\\n']\n",
      "['\\n2023 BMW 7시리즈\\n\\n17,000만원\\n\\n\\n출시 2022년 11월\\n\\n', '\\n2023 레이\\n\\n정보없음\\n\\n\\n출시 2022년 9월\\n\\n', '\\n2022 피아트 패스트백\\n\\n정보없음\\n\\n\\n출시 2022년 8월\\n\\n', '\\n2022 폭스바겐 티구안 올스페이스\\n\\n5,098만원\\n\\n\\n출시 2022년 8월\\n\\n', '\\n2022 포드 익스플로러 하이브리드\\n\\n6,920만원\\n\\n\\n출시 2022년 8월\\n\\n', '\\n2022 포드 익스플로러\\n\\n정보없음\\n\\n\\n출시 2022년 8월\\n\\n', '\\n2022 페라리 296 GTS\\n\\n정보없음\\n\\n\\n출시 2022년 8월\\n\\n', '\\n2022 토요타 야리스 아티브\\n\\n15,232달러\\n\\n\\n출시 2022년 8월\\n\\n', '\\n2023 BMW 7시리즈\\n\\n17,000만원\\n\\n\\n출시 2022년 11월\\n\\n', '\\n2023 레이\\n\\n정보없음\\n\\n\\n출시 2022년 9월\\n\\n', '\\n2022 피아트 패스트백\\n\\n정보없음\\n\\n\\n출시 2022년 8월\\n\\n', '\\n2022 폭스바겐 티구안 올스페이스\\n\\n5,098만원\\n\\n\\n출시 2022년 8월\\n\\n', '\\n2022 포드 익스플로러 하이브리드\\n\\n6,920만원\\n\\n\\n출시 2022년 8월\\n\\n']\n",
      "['\\n2023 BMW 7시리즈\\n\\n17,000만원\\n\\n\\n출시 2022년 11월\\n\\n', '\\n2023 레이\\n\\n정보없음\\n\\n\\n출시 2022년 9월\\n\\n', '\\n2022 피아트 패스트백\\n\\n정보없음\\n\\n\\n출시 2022년 8월\\n\\n', '\\n2022 폭스바겐 티구안 올스페이스\\n\\n5,098만원\\n\\n\\n출시 2022년 8월\\n\\n', '\\n2022 포드 익스플로러 하이브리드\\n\\n6,920만원\\n\\n\\n출시 2022년 8월\\n\\n', '\\n2022 포드 익스플로러\\n\\n정보없음\\n\\n\\n출시 2022년 8월\\n\\n', '\\n2022 페라리 296 GTS\\n\\n정보없음\\n\\n\\n출시 2022년 8월\\n\\n', '\\n2022 토요타 야리스 아티브\\n\\n15,232달러\\n\\n\\n출시 2022년 8월\\n\\n', '\\n2023 BMW 7시리즈\\n\\n17,000만원\\n\\n\\n출시 2022년 11월\\n\\n', '\\n2023 레이\\n\\n정보없음\\n\\n\\n출시 2022년 9월\\n\\n', '\\n2022 피아트 패스트백\\n\\n정보없음\\n\\n\\n출시 2022년 8월\\n\\n', '\\n2022 폭스바겐 티구안 올스페이스\\n\\n5,098만원\\n\\n\\n출시 2022년 8월\\n\\n', '\\n2022 포드 익스플로러 하이브리드\\n\\n6,920만원\\n\\n\\n출시 2022년 8월\\n\\n', '\\n2022 포드 익스플로러\\n\\n정보없음\\n\\n\\n출시 2022년 8월\\n\\n']\n",
      "['\\n2023 BMW 7시리즈\\n\\n17,000만원\\n\\n\\n출시 2022년 11월\\n\\n', '\\n2023 레이\\n\\n정보없음\\n\\n\\n출시 2022년 9월\\n\\n', '\\n2022 피아트 패스트백\\n\\n정보없음\\n\\n\\n출시 2022년 8월\\n\\n', '\\n2022 폭스바겐 티구안 올스페이스\\n\\n5,098만원\\n\\n\\n출시 2022년 8월\\n\\n', '\\n2022 포드 익스플로러 하이브리드\\n\\n6,920만원\\n\\n\\n출시 2022년 8월\\n\\n', '\\n2022 포드 익스플로러\\n\\n정보없음\\n\\n\\n출시 2022년 8월\\n\\n', '\\n2022 페라리 296 GTS\\n\\n정보없음\\n\\n\\n출시 2022년 8월\\n\\n', '\\n2022 토요타 야리스 아티브\\n\\n15,232달러\\n\\n\\n출시 2022년 8월\\n\\n', '\\n2023 BMW 7시리즈\\n\\n17,000만원\\n\\n\\n출시 2022년 11월\\n\\n', '\\n2023 레이\\n\\n정보없음\\n\\n\\n출시 2022년 9월\\n\\n', '\\n2022 피아트 패스트백\\n\\n정보없음\\n\\n\\n출시 2022년 8월\\n\\n', '\\n2022 폭스바겐 티구안 올스페이스\\n\\n5,098만원\\n\\n\\n출시 2022년 8월\\n\\n', '\\n2022 포드 익스플로러 하이브리드\\n\\n6,920만원\\n\\n\\n출시 2022년 8월\\n\\n', '\\n2022 포드 익스플로러\\n\\n정보없음\\n\\n\\n출시 2022년 8월\\n\\n', '\\n2022 페라리 296 GTS\\n\\n정보없음\\n\\n\\n출시 2022년 8월\\n\\n']\n",
      "['\\n2023 BMW 7시리즈\\n\\n17,000만원\\n\\n\\n출시 2022년 11월\\n\\n', '\\n2023 레이\\n\\n정보없음\\n\\n\\n출시 2022년 9월\\n\\n', '\\n2022 피아트 패스트백\\n\\n정보없음\\n\\n\\n출시 2022년 8월\\n\\n', '\\n2022 폭스바겐 티구안 올스페이스\\n\\n5,098만원\\n\\n\\n출시 2022년 8월\\n\\n', '\\n2022 포드 익스플로러 하이브리드\\n\\n6,920만원\\n\\n\\n출시 2022년 8월\\n\\n', '\\n2022 포드 익스플로러\\n\\n정보없음\\n\\n\\n출시 2022년 8월\\n\\n', '\\n2022 페라리 296 GTS\\n\\n정보없음\\n\\n\\n출시 2022년 8월\\n\\n', '\\n2022 토요타 야리스 아티브\\n\\n15,232달러\\n\\n\\n출시 2022년 8월\\n\\n', '\\n2023 BMW 7시리즈\\n\\n17,000만원\\n\\n\\n출시 2022년 11월\\n\\n', '\\n2023 레이\\n\\n정보없음\\n\\n\\n출시 2022년 9월\\n\\n', '\\n2022 피아트 패스트백\\n\\n정보없음\\n\\n\\n출시 2022년 8월\\n\\n', '\\n2022 폭스바겐 티구안 올스페이스\\n\\n5,098만원\\n\\n\\n출시 2022년 8월\\n\\n', '\\n2022 포드 익스플로러 하이브리드\\n\\n6,920만원\\n\\n\\n출시 2022년 8월\\n\\n', '\\n2022 포드 익스플로러\\n\\n정보없음\\n\\n\\n출시 2022년 8월\\n\\n', '\\n2022 페라리 296 GTS\\n\\n정보없음\\n\\n\\n출시 2022년 8월\\n\\n', '\\n2022 토요타 야리스 아티브\\n\\n15,232달러\\n\\n\\n출시 2022년 8월\\n\\n']\n",
      "['\\n2023 BMW 7시리즈\\n\\n17,000만원\\n\\n\\n출시 2022년 11월\\n\\n', '\\n2023 레이\\n\\n정보없음\\n\\n\\n출시 2022년 9월\\n\\n', '\\n2022 피아트 패스트백\\n\\n정보없음\\n\\n\\n출시 2022년 8월\\n\\n', '\\n2022 폭스바겐 티구안 올스페이스\\n\\n5,098만원\\n\\n\\n출시 2022년 8월\\n\\n', '\\n2022 포드 익스플로러 하이브리드\\n\\n6,920만원\\n\\n\\n출시 2022년 8월\\n\\n', '\\n2022 포드 익스플로러\\n\\n정보없음\\n\\n\\n출시 2022년 8월\\n\\n', '\\n2022 페라리 296 GTS\\n\\n정보없음\\n\\n\\n출시 2022년 8월\\n\\n', '\\n2022 토요타 야리스 아티브\\n\\n15,232달러\\n\\n\\n출시 2022년 8월\\n\\n', '\\n2023 BMW 7시리즈\\n\\n17,000만원\\n\\n\\n출시 2022년 11월\\n\\n', '\\n2023 레이\\n\\n정보없음\\n\\n\\n출시 2022년 9월\\n\\n', '\\n2022 피아트 패스트백\\n\\n정보없음\\n\\n\\n출시 2022년 8월\\n\\n', '\\n2022 폭스바겐 티구안 올스페이스\\n\\n5,098만원\\n\\n\\n출시 2022년 8월\\n\\n', '\\n2022 포드 익스플로러 하이브리드\\n\\n6,920만원\\n\\n\\n출시 2022년 8월\\n\\n', '\\n2022 포드 익스플로러\\n\\n정보없음\\n\\n\\n출시 2022년 8월\\n\\n', '\\n2022 페라리 296 GTS\\n\\n정보없음\\n\\n\\n출시 2022년 8월\\n\\n', '\\n2022 토요타 야리스 아티브\\n\\n15,232달러\\n\\n\\n출시 2022년 8월\\n\\n']\n"
     ]
    }
   ],
   "source": [
    "# daum 실행\n",
    "options = webdriver.ChromeOptions()\n",
    "options.add_argument('window_size = 1920,1080')\n",
    "\n",
    "path = 'C:/cakd7/tool/chromedriver.exe'\n",
    "driver = webdriver.Chrome(path)\n",
    "\n",
    "driver.get(url = 'https://www.naver.com/')\n",
    "\n",
    "# 자동차 가격 입력\n",
    "search_box = driver.find_element(By.XPATH, '//*[@id=\"query\"]')\n",
    "search_box.send_keys('자동차 가격') #위 xpath에 빅데이터를 입력\n",
    "search_box.send_keys(Keys.RETURN) #해당 페이지로 이동\n",
    "sleep(3)\n",
    "\n",
    "# 필터 클릭 \n",
    "click_type = driver.find_element(By.XPATH, '//*[@id=\"main_pack\"]/div[3]/div[2]/div/div/div[1]/div[1]/button')\n",
    "click_type.click()\n",
    "sleep(2)\n",
    "\n",
    "# 시판 전체 클릭\n",
    "click_alltype = driver.find_element(By.XPATH, '//*[@id=\"main_pack\"]/div[3]/div[2]/div/div/div[1]/div[1]/div/div/div[2]/div[1]/div[4]/div/ul/li[1]/a')\n",
    "click_alltype.click()\n",
    "sleep(2)\n",
    "\n",
    "# 가솔린\n",
    "click_oiltype = driver.find_element(By.XPATH, '//*[@id=\"main_pack\"]/div[3]/div[2]/div/div/div[1]/div[1]/div/div/div[2]/div[1]/div[7]/div/ul/li[2]/a')\n",
    "click_oiltype.click()\n",
    "sleep(3)\n",
    "\n",
    "# 적용하기\n",
    "click_enter = driver.find_element(By.XPATH, '//*[@id=\"main_pack\"]/div[3]/div[2]/div/div/div[1]/div[1]/div/div/div[2]/div[2]/a')\n",
    "click_enter.click()\n",
    "sleep(3)\n",
    "\n",
    "#페이지 수\n",
    "page_count = driver.find_element(By.CLASS_NAME, '_total')\n",
    "total_page = page_count.text\n",
    "\n",
    "#이름\n",
    "li = []\n",
    "for i in range(1, 3):\n",
    "    html = driver.page_source\n",
    "    soup = BeautifulSoup(html, 'html.parser')\n",
    "    elements = soup.find_all(class_ = 'info_area' , limit=8)\n",
    "    \n",
    "    # 자동차 이름 \n",
    "    for element in elements:\n",
    "        li.append(element.text)\n",
    "        print(li)\n",
    "        sleep(2)\n",
    "\n",
    "    # 다음 버튼\n",
    "    click_element = driver.find_element(By.XPATH, '/html/body/div[3]/div[2]/div/div[1]/div[3]/div[2]/div/div/div[4]/div/a[2]')\n",
    "    click_element.click()\n",
    "\n",
    "driver.close()\n",
    "print(li)\n",
    "\n",
    "#     # 자동차 가격/ 출시년도\n",
    "#     for price in prices:\n",
    "#         li1.append(price.text)\n",
    "#         print(li1)\n",
    "#         sleep(2)\n",
    "        \n",
    "#     for year in years:\n",
    "#         li2.append(year.text)\n",
    "#         print(li2)\n",
    "#         sleep(3)\n",
    "    \n",
    "#     # 다음 버튼\n",
    "#     click_element = driver.find_element(By.XPATH, '/html/body/div[3]/div[2]/div/div[1]/div[3]/div[2]/div/div/div[4]/div/a[2]')\n",
    "#     click_element.click()\n",
    "\n",
    "# driver.close()\n",
    "# print(li)\n",
    "# print(li1)\n",
    "# print(li2)"
   ]
  },
  {
   "cell_type": "code",
   "execution_count": null,
   "id": "a2e96e71",
   "metadata": {},
   "outputs": [],
   "source": []
  }
 ],
 "metadata": {
  "kernelspec": {
   "display_name": "Python 3 (ipykernel)",
   "language": "python",
   "name": "python3"
  },
  "language_info": {
   "codemirror_mode": {
    "name": "ipython",
    "version": 3
   },
   "file_extension": ".py",
   "mimetype": "text/x-python",
   "name": "python",
   "nbconvert_exporter": "python",
   "pygments_lexer": "ipython3",
   "version": "3.8.13"
  },
  "toc": {
   "base_numbering": 1,
   "nav_menu": {},
   "number_sections": true,
   "sideBar": true,
   "skip_h1_title": false,
   "title_cell": "Table of Contents",
   "title_sidebar": "Contents",
   "toc_cell": false,
   "toc_position": {},
   "toc_section_display": true,
   "toc_window_display": false
  }
 },
 "nbformat": 4,
 "nbformat_minor": 5
}
