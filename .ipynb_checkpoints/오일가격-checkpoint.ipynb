{
 "cells": [
  {
   "cell_type": "markdown",
   "id": "36cb1ed1",
   "metadata": {},
   "source": [
    "https://www.opinet.co.kr/user/opdown/opDownload.do"
   ]
  },
  {
   "cell_type": "markdown",
   "id": "704ad492",
   "metadata": {},
   "source": [
    "# 데이터 수집(2019-2021)"
   ]
  },
  {
   "cell_type": "code",
   "execution_count": 1,
   "id": "f88b0d50",
   "metadata": {},
   "outputs": [
    {
     "data": {
      "text/plain": [
       "'C:\\\\cakd7\\\\github\\\\데이터안심구역_팀\\\\teamproject'"
      ]
     },
     "execution_count": 1,
     "metadata": {},
     "output_type": "execute_result"
    }
   ],
   "source": [
    "%pwd"
   ]
  },
  {
   "cell_type": "code",
   "execution_count": 21,
   "id": "135a7adf",
   "metadata": {
    "scrolled": true
   },
   "outputs": [
    {
     "name": "stdout",
     "output_type": "stream",
     "text": [
      "Correct!\n"
     ]
    }
   ],
   "source": [
    "import pandas as pd\n",
    "#2019상반기\n",
    "Y2019_1 = pd.read_csv('./data/유가/과거_판매가격(주유소)201901-201906.csv',encoding='cp949')\n",
    "Y2019_1.drop([0],inplace=True)\n",
    "Y2019_1['기준']=2019\n",
    "\n",
    "#2019하반기\n",
    "Y2019_2 = pd.read_csv('./data/유가/과거_판매가격(주유소)201907-201912.csv',encoding='cp949')\n",
    "Y2019_2.drop([0],inplace=True)\n",
    "Y2019_2['기준']=2019\n",
    "\n",
    "#2019 \n",
    "Y2019 = pd.concat([Y2019_1,Y2019_2],axis=0)\n",
    "Y2019.reset_index(inplace=True)\n",
    "\n",
    "#확인\n",
    "len2019 = len(Y2019_1) + len(Y2019_2)\n",
    "if len2019 == len(Y2019):\n",
    "    print(\"Correct!\")"
   ]
  },
  {
   "cell_type": "code",
   "execution_count": 22,
   "id": "6b06fb3c",
   "metadata": {},
   "outputs": [
    {
     "name": "stdout",
     "output_type": "stream",
     "text": [
      "Correct!\n"
     ]
    }
   ],
   "source": [
    "import pandas as pd\n",
    "#2020상반기\n",
    "Y2020_1 = pd.read_csv('./data/유가/과거_판매가격(주유소)202001-202006.csv',encoding='cp949')\n",
    "Y2020_1.drop([0],inplace=True)\n",
    "Y2020_1['기준']=2020\n",
    "\n",
    "#2020하반기\n",
    "Y2020_2 = pd.read_csv('./data/유가/과거_판매가격(주유소)202007-202012.csv',encoding='cp949')\n",
    "Y2020_2.drop([0],inplace=True)\n",
    "Y2020_2['기준']=2020\n",
    "\n",
    "#2020 \n",
    "Y2020= pd.concat([Y2020_1,Y2020_2],axis=0)\n",
    "Y2020.reset_index(inplace=True)\n",
    "\n",
    "#확인\n",
    "len2020 = len(Y2020_1) + len(Y2020_2)\n",
    "if len2020 == len(Y2020):\n",
    "    print(\"Correct!\")"
   ]
  },
  {
   "cell_type": "code",
   "execution_count": 23,
   "id": "a3e6bd62",
   "metadata": {},
   "outputs": [
    {
     "name": "stdout",
     "output_type": "stream",
     "text": [
      "Correct!\n"
     ]
    }
   ],
   "source": [
    "import pandas as pd\n",
    "#2021상반기\n",
    "Y2021_1 = pd.read_csv('./data/유가/과거_판매가격(주유소)202101-202106.csv',encoding='cp949')\n",
    "Y2021_1.drop([0],inplace=True)\n",
    "Y2021_1['기준']=2021\n",
    "\n",
    "#2021하반기\n",
    "Y2021_2 = pd.read_csv('./data/유가/과거_판매가격(주유소)202107-202112.csv',encoding='cp949')\n",
    "Y2021_2.drop([0],inplace=True)\n",
    "Y2021_2['기준']=2021\n",
    "\n",
    "#2021 \n",
    "Y2021= pd.concat([Y2021_1,Y2021_2],axis=0)\n",
    "Y2021.reset_index(inplace=True)\n",
    "\n",
    "#확인\n",
    "len2021 = len(Y2021_1) + len(Y2021_2)\n",
    "if len2021 == len(Y2021):\n",
    "    print(\"Correct!\")"
   ]
  },
  {
   "cell_type": "markdown",
   "id": "b5626d76",
   "metadata": {},
   "source": [
    "# 연평균 휘발유 가격"
   ]
  },
  {
   "cell_type": "code",
   "execution_count": 29,
   "id": "99223874",
   "metadata": {},
   "outputs": [],
   "source": [
    "m2019 = round(Y2019['휘발유'].mean(),2)\n",
    "m2020 = round(Y2020['휘발유'].mean(),2)\n",
    "m2021 = round(Y2021['휘발유'].mean(),2)"
   ]
  },
  {
   "cell_type": "code",
   "execution_count": 54,
   "id": "76ed0671",
   "metadata": {},
   "outputs": [
    {
     "data": {
      "text/html": [
       "<div>\n",
       "<style scoped>\n",
       "    .dataframe tbody tr th:only-of-type {\n",
       "        vertical-align: middle;\n",
       "    }\n",
       "\n",
       "    .dataframe tbody tr th {\n",
       "        vertical-align: top;\n",
       "    }\n",
       "\n",
       "    .dataframe thead th {\n",
       "        text-align: right;\n",
       "    }\n",
       "</style>\n",
       "<table border=\"1\" class=\"dataframe\">\n",
       "  <thead>\n",
       "    <tr style=\"text-align: right;\">\n",
       "      <th></th>\n",
       "      <th>price</th>\n",
       "    </tr>\n",
       "  </thead>\n",
       "  <tbody>\n",
       "    <tr>\n",
       "      <th>0</th>\n",
       "      <td>1566.60</td>\n",
       "    </tr>\n",
       "    <tr>\n",
       "      <th>1</th>\n",
       "      <td>1470.61</td>\n",
       "    </tr>\n",
       "    <tr>\n",
       "      <th>2</th>\n",
       "      <td>1667.49</td>\n",
       "    </tr>\n",
       "  </tbody>\n",
       "</table>\n",
       "</div>"
      ],
      "text/plain": [
       "     price\n",
       "0  1566.60\n",
       "1  1470.61\n",
       "2  1667.49"
      ]
     },
     "execution_count": 54,
     "metadata": {},
     "output_type": "execute_result"
    }
   ],
   "source": [
    "oil_price = pd.DataFrame({'price':[m2019,m2020,m2021]})\n",
    "oil_price.index += 2019\n",
    "oil_price"
   ]
  },
  {
   "cell_type": "code",
   "execution_count": 52,
   "id": "f3bae230",
   "metadata": {},
   "outputs": [
    {
     "data": {
      "text/plain": [
       "<matplotlib.legend.Legend at 0x266fc3517c0>"
      ]
     },
     "execution_count": 52,
     "metadata": {},
     "output_type": "execute_result"
    },
    {
     "data": {
      "image/png": "[encoded data removed]",
      "text/plain": [
       "<Figure size 432x288 with 1 Axes>"
      ]
     },
     "metadata": {
      "needs_background": "light"
     },
     "output_type": "display_data"
    }
   ],
   "source": [
    "import matplotlib.pyplot as plt\n",
    "oil_price.plot(kind='bar')\n",
    "plt.legend(loc='upper left')"
   ]
  },
  {
   "cell_type": "code",
   "execution_count": null,
   "id": "6a62d5f1",
   "metadata": {},
   "outputs": [],
   "source": []
  },
  {
   "cell_type": "code",
   "execution_count": null,
   "id": "7dc13a5a",
   "metadata": {},
   "outputs": [],
   "source": []
  },
  {
   "cell_type": "code",
   "execution_count": null,
   "id": "40b5d92b",
   "metadata": {},
   "outputs": [],
   "source": []
  }
 ],
 "metadata": {
  "kernelspec": {
   "display_name": "Python 3 (ipykernel)",
   "language": "python",
   "name": "python3"
  },
  "language_info": {
   "codemirror_mode": {
    "name": "ipython",
    "version": 3
   },
   "file_extension": ".py",
   "mimetype": "text/x-python",
   "name": "python",
   "nbconvert_exporter": "python",
   "pygments_lexer": "ipython3",
   "version": "3.8.13"
  },
  "toc": {
   "base_numbering": 1,
   "nav_menu": {},
   "number_sections": true,
   "sideBar": true,
   "skip_h1_title": false,
   "title_cell": "Table of Contents",
   "title_sidebar": "Contents",
   "toc_cell": false,
   "toc_position": {},
   "toc_section_display": true,
   "toc_window_display": true
  }
 },
 "nbformat": 4,
 "nbformat_minor": 5
}
